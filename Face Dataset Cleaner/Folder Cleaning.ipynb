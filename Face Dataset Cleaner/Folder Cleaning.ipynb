{
  "cells": [
    {
      "cell_type": "markdown",
      "metadata": {
        "id": "BfrtLx8nCVDN"
      },
      "source": [
        "### Using MTCNN to detect face"
      ]
    },
    {
      "cell_type": "code",
      "execution_count": null,
      "metadata": {
        "colab": {
          "base_uri": "https://localhost:8080/"
        },
        "id": "L6mLTIXACUib",
        "outputId": "56f8e9ca-9e22-4da7-92ba-d5e8cb5cf243"
      },
      "outputs": [
        {
          "name": "stdout",
          "output_type": "stream",
          "text": [
            "1/1 [==============================] - 0s 211ms/step\n",
            "1/1 [==============================] - 0s 118ms/step\n",
            "1/1 [==============================] - 0s 31ms/step\n",
            "1/1 [==============================] - 0s 27ms/step\n",
            "1/1 [==============================] - 0s 23ms/step\n",
            "1/1 [==============================] - 0s 27ms/step\n",
            "1/1 [==============================] - 0s 24ms/step\n",
            "1/1 [==============================] - 0s 22ms/step\n",
            "1/1 [==============================] - 0s 27ms/step\n",
            "1/1 [==============================] - 0s 23ms/step\n",
            "1/1 [==============================] - 0s 147ms/step\n",
            "1/1 [==============================] - 0s 145ms/step\n",
            "Face detected in: 00001_000465_MSpeaker.jpg\n",
            "1/1 [==============================] - 0s 130ms/step\n",
            "1/1 [==============================] - 0s 111ms/step\n",
            "1/1 [==============================] - 0s 28ms/step\n",
            "1/1 [==============================] - 0s 28ms/step\n",
            "1/1 [==============================] - 0s 23ms/step\n",
            "1/1 [==============================] - 0s 24ms/step\n",
            "1/1 [==============================] - 0s 22ms/step\n",
            "1/1 [==============================] - 0s 21ms/step\n",
            "1/1 [==============================] - 0s 24ms/step\n",
            "1/1 [==============================] - 0s 21ms/step\n",
            "1/1 [==============================] - 0s 136ms/step\n",
            "1/1 [==============================] - 0s 145ms/step\n",
            "Face detected in: 00001_000463_MSpeaker.jpg\n",
            "1/1 [==============================] - 0s 141ms/step\n",
            "1/1 [==============================] - 0s 120ms/step\n",
            "1/1 [==============================] - 0s 31ms/step\n",
            "1/1 [==============================] - 0s 27ms/step\n",
            "1/1 [==============================] - 0s 23ms/step\n",
            "1/1 [==============================] - 0s 25ms/step\n",
            "1/1 [==============================] - 0s 23ms/step\n",
            "1/1 [==============================] - 0s 22ms/step\n",
            "1/1 [==============================] - 0s 30ms/step\n",
            "1/1 [==============================] - 0s 23ms/step\n",
            "1/1 [==============================] - 0s 130ms/step\n",
            "No face detected in: 00001_000457_MSpeaker.jpg\n",
            "1/1 [==============================] - 0s 129ms/step\n",
            "1/1 [==============================] - 0s 118ms/step\n",
            "1/1 [==============================] - 0s 28ms/step\n",
            "1/1 [==============================] - 0s 26ms/step\n",
            "1/1 [==============================] - 0s 23ms/step\n",
            "1/1 [==============================] - 0s 25ms/step\n",
            "1/1 [==============================] - 0s 22ms/step\n",
            "1/1 [==============================] - 0s 21ms/step\n",
            "1/1 [==============================] - 0s 22ms/step\n",
            "1/1 [==============================] - 0s 36ms/step\n",
            "1/1 [==============================] - 0s 195ms/step\n",
            "No face detected in: 00001_000455_MSpeaker.jpg\n",
            "1/1 [==============================] - 0s 216ms/step\n",
            "1/1 [==============================] - 0s 168ms/step\n",
            "1/1 [==============================] - 0s 43ms/step\n",
            "1/1 [==============================] - 0s 38ms/step\n",
            "1/1 [==============================] - 0s 33ms/step\n",
            "1/1 [==============================] - 0s 39ms/step\n",
            "1/1 [==============================] - 0s 33ms/step\n",
            "1/1 [==============================] - 0s 44ms/step\n",
            "1/1 [==============================] - 0s 32ms/step\n",
            "1/1 [==============================] - 0s 32ms/step\n",
            "1/1 [==============================] - 0s 182ms/step\n",
            "No face detected in: 00001_000461_MSpeaker.jpg\n",
            "1/1 [==============================] - 0s 123ms/step\n",
            "1/1 [==============================] - 0s 117ms/step\n",
            "1/1 [==============================] - 0s 28ms/step\n",
            "1/1 [==============================] - 0s 28ms/step\n",
            "1/1 [==============================] - 0s 24ms/step\n",
            "1/1 [==============================] - 0s 22ms/step\n",
            "1/1 [==============================] - 0s 23ms/step\n",
            "1/1 [==============================] - 0s 23ms/step\n",
            "1/1 [==============================] - 0s 25ms/step\n",
            "1/1 [==============================] - 0s 25ms/step\n",
            "1/1 [==============================] - 0s 119ms/step\n",
            "1/1 [==============================] - 0s 142ms/step\n",
            "Face detected in: 00001_000535_ISpeaker.jpg\n",
            "1/1 [==============================] - 0s 126ms/step\n",
            "1/1 [==============================] - 0s 115ms/step\n",
            "1/1 [==============================] - 0s 30ms/step\n",
            "1/1 [==============================] - 0s 26ms/step\n",
            "1/1 [==============================] - 0s 24ms/step\n",
            "1/1 [==============================] - 0s 21ms/step\n",
            "1/1 [==============================] - 0s 21ms/step\n",
            "1/1 [==============================] - 0s 23ms/step\n",
            "1/1 [==============================] - 0s 22ms/step\n",
            "1/1 [==============================] - 0s 27ms/step\n",
            "1/1 [==============================] - 0s 139ms/step\n",
            "No face detected in: 00001_000459_MSpeaker.jpg\n",
            "1/1 [==============================] - 0s 120ms/step\n",
            "1/1 [==============================] - 0s 128ms/step\n",
            "1/1 [==============================] - 0s 27ms/step\n",
            "1/1 [==============================] - 0s 24ms/step\n",
            "1/1 [==============================] - 0s 23ms/step\n",
            "1/1 [==============================] - 0s 22ms/step\n",
            "1/1 [==============================] - 0s 21ms/step\n",
            "1/1 [==============================] - 0s 21ms/step\n",
            "1/1 [==============================] - 0s 22ms/step\n",
            "1/1 [==============================] - 0s 24ms/step\n",
            "1/1 [==============================] - 0s 122ms/step\n",
            "1/1 [==============================] - 0s 156ms/step\n",
            "Face detected in: 00001_000467_MSpeaker.jpg\n",
            "Filenames without faces:\n",
            "['00001_000457_MSpeaker.jpg', '00001_000455_MSpeaker.jpg', '00001_000461_MSpeaker.jpg', '00001_000459_MSpeaker.jpg']\n"
          ]
        }
      ],
      "source": [
        "from mtcnn.mtcnn import MTCNN\n",
        "import os\n",
        "import cv2\n",
        "\n",
        "# Func to detect face\n",
        "def is_face(image_path):\n",
        "    pixels = cv2.imread(image_path)\n",
        "\n",
        "    detector = MTCNN()\n",
        "\n",
        "    faces = detector.detect_faces(pixels)\n",
        "\n",
        "    return len(faces) > 0\n",
        "\n",
        "def detect_and_keep_non_faces(folder_path):\n",
        "    non_faces = []\n",
        "\n",
        "    for filename in os.listdir(folder_path):\n",
        "        file_path = os.path.join(folder_path, filename)\n",
        "\n",
        "        if os.path.isfile(file_path):\n",
        "\n",
        "            if is_face(file_path):\n",
        "                print(f\"Face detected in: {filename}\")\n",
        "            else:\n",
        "                print(f\"No face detected in: {filename}\")\n",
        "                non_faces.append(filename)\n",
        "\n",
        "    return non_faces\n",
        "\n",
        "# Note down non face images\n",
        "if __name__ == \"__main__\":\n",
        "    folder_path = \"/content/Data/1\"\n",
        "    non_faces_list = detect_and_keep_non_faces(folder_path)\n",
        "\n",
        "    print(\"Filenames without faces:\")\n",
        "    print(non_faces_list)\n",
        "\n",
        "\n"
      ]
    },
    {
      "cell_type": "code",
      "execution_count": null,
      "metadata": {
        "colab": {
          "base_uri": "https://localhost:8080/"
        },
        "id": "8Mybcn61CcrE",
        "outputId": "6c4a0e9d-dae8-4496-eb00-b9503c1164b6"
      },
      "outputs": [
        {
          "name": "stdout",
          "output_type": "stream",
          "text": [
            "Deleted: 00001_000457_MSpeaker.jpg\n",
            "Deleted: 00001_000455_MSpeaker.jpg\n",
            "Deleted: 00001_000461_MSpeaker.jpg\n",
            "Deleted: 00001_000459_MSpeaker.jpg\n"
          ]
        }
      ],
      "source": [
        "# Remove non face images from folder\n",
        "def delete_files(folder_path, file_list):\n",
        "    for filename in file_list:\n",
        "        file_path = os.path.join(folder_path, filename)\n",
        "        try:\n",
        "            os.remove(file_path)\n",
        "            print(f\"Deleted: {filename}\")\n",
        "        except OSError as e:\n",
        "            print(f\"Error deleting {filename}: {e}\")\n",
        "\n",
        "delete_files(folder_path, non_faces_list)"
      ]
    }
  ],
  "metadata": {
    "accelerator": "GPU",
    "colab": {
      "gpuType": "T4",
      "provenance": []
    },
    "kernelspec": {
      "display_name": "Python 3",
      "name": "python3"
    },
    "language_info": {
      "name": "python"
    }
  },
  "nbformat": 4,
  "nbformat_minor": 0
}
